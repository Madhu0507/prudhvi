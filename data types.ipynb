{
 "cells": [
  {
   "cell_type": "raw",
   "metadata": {},
   "source": [
    "Numbers:\n",
    "1. Integers\n",
    "2. Float\n",
    "3. Complex"
   ]
  },
  {
   "cell_type": "code",
   "execution_count": 1,
   "metadata": {},
   "outputs": [
    {
     "data": {
      "text/plain": [
       "int"
      ]
     },
     "execution_count": 1,
     "metadata": {},
     "output_type": "execute_result"
    }
   ],
   "source": [
    "#Integers\n",
    "a=10\n",
    "type(a)"
   ]
  },
  {
   "cell_type": "code",
   "execution_count": 2,
   "metadata": {},
   "outputs": [
    {
     "data": {
      "text/plain": [
       "float"
      ]
     },
     "execution_count": 2,
     "metadata": {},
     "output_type": "execute_result"
    }
   ],
   "source": [
    "#Float\n",
    "b=10.1\n",
    "type(b)"
   ]
  },
  {
   "cell_type": "code",
   "execution_count": 3,
   "metadata": {},
   "outputs": [
    {
     "data": {
      "text/plain": [
       "complex"
      ]
     },
     "execution_count": 3,
     "metadata": {},
     "output_type": "execute_result"
    }
   ],
   "source": [
    "#complex\n",
    "c=1+2j\n",
    "type(c)"
   ]
  },
  {
   "cell_type": "code",
   "execution_count": 4,
   "metadata": {},
   "outputs": [
    {
     "data": {
      "text/plain": [
       "1.0"
      ]
     },
     "execution_count": 4,
     "metadata": {},
     "output_type": "execute_result"
    }
   ],
   "source": [
    "c.real"
   ]
  },
  {
   "cell_type": "code",
   "execution_count": 5,
   "metadata": {},
   "outputs": [
    {
     "data": {
      "text/plain": [
       "2.0"
      ]
     },
     "execution_count": 5,
     "metadata": {},
     "output_type": "execute_result"
    }
   ],
   "source": [
    "c.imag"
   ]
  },
  {
   "cell_type": "code",
   "execution_count": 6,
   "metadata": {},
   "outputs": [
    {
     "data": {
      "text/plain": [
       "str"
      ]
     },
     "execution_count": 6,
     "metadata": {},
     "output_type": "execute_result"
    }
   ],
   "source": [
    "#single line string - '' (or) \"\"\n",
    "d='welcome to python training'\n",
    "type(d)"
   ]
  },
  {
   "cell_type": "code",
   "execution_count": 12,
   "metadata": {},
   "outputs": [
    {
     "data": {
      "text/plain": [
       "str"
      ]
     },
     "execution_count": 12,
     "metadata": {},
     "output_type": "execute_result"
    }
   ],
   "source": [
    "#single line string - '' (or) \"\"\n",
    "d=\"welcome to python training\"\n",
    "type(d)"
   ]
  },
  {
   "cell_type": "code",
   "execution_count": 10,
   "metadata": {},
   "outputs": [
    {
     "data": {
      "text/plain": [
       "str"
      ]
     },
     "execution_count": 10,
     "metadata": {},
     "output_type": "execute_result"
    }
   ],
   "source": [
    "#multi line string - ''' ''' (or) \"\"\" \"\"\"\n",
    "e='''welcome\n",
    "to\n",
    "python\n",
    "'''\n",
    "type(e)"
   ]
  },
  {
   "cell_type": "code",
   "execution_count": 11,
   "metadata": {},
   "outputs": [
    {
     "data": {
      "text/plain": [
       "str"
      ]
     },
     "execution_count": 11,
     "metadata": {},
     "output_type": "execute_result"
    }
   ],
   "source": [
    "f=\"\"\"welcome\n",
    "to\n",
    "python\n",
    "\"\"\"\n",
    "type(f)"
   ]
  },
  {
   "cell_type": "code",
   "execution_count": 15,
   "metadata": {},
   "outputs": [
    {
     "data": {
      "text/plain": [
       "'pythontraining'"
      ]
     },
     "execution_count": 15,
     "metadata": {},
     "output_type": "execute_result"
    }
   ],
   "source": [
    "#string can be concatenated with string\n",
    "'python'+'training'"
   ]
  },
  {
   "cell_type": "code",
   "execution_count": 16,
   "metadata": {},
   "outputs": [
    {
     "ename": "TypeError",
     "evalue": "can only concatenate str (not \"int\") to str",
     "output_type": "error",
     "traceback": [
      "\u001b[1;31m---------------------------------------------------------------------------\u001b[0m",
      "\u001b[1;31mTypeError\u001b[0m                                 Traceback (most recent call last)",
      "\u001b[1;32m<ipython-input-16-8a815852e66e>\u001b[0m in \u001b[0;36m<module>\u001b[1;34m\u001b[0m\n\u001b[0;32m      1\u001b[0m \u001b[1;31m#string cannot be concatenated integer\u001b[0m\u001b[1;33m\u001b[0m\u001b[1;33m\u001b[0m\u001b[1;33m\u001b[0m\u001b[0m\n\u001b[1;32m----> 2\u001b[1;33m \u001b[1;34m'python'\u001b[0m\u001b[1;33m+\u001b[0m\u001b[1;36m12\u001b[0m\u001b[1;33m\u001b[0m\u001b[1;33m\u001b[0m\u001b[0m\n\u001b[0m",
      "\u001b[1;31mTypeError\u001b[0m: can only concatenate str (not \"int\") to str"
     ]
    }
   ],
   "source": [
    "#string cannot be concatenated with integer\n",
    "'python'+12"
   ]
  },
  {
   "cell_type": "code",
   "execution_count": 17,
   "metadata": {},
   "outputs": [
    {
     "data": {
      "text/plain": [
       "'pythonpython'"
      ]
     },
     "execution_count": 17,
     "metadata": {},
     "output_type": "execute_result"
    }
   ],
   "source": [
    "#repetition - *\n",
    "'python'*2"
   ]
  },
  {
   "cell_type": "code",
   "execution_count": 22,
   "metadata": {},
   "outputs": [
    {
     "data": {
      "text/plain": [
       "'ph'"
      ]
     },
     "execution_count": 22,
     "metadata": {},
     "output_type": "execute_result"
    }
   ],
   "source": [
    "#slicing - positive slicing - [n=0:n=n-1:n=1]\n",
    "#[start:stop:step]\n",
    "a='pythontrainingtodayisthursday'\n",
    "a[:6:3]\n",
    "#start = 0\n",
    "#stop = 6 = 6-1 = 5\n",
    "#step = 3"
   ]
  },
  {
   "cell_type": "code",
   "execution_count": 23,
   "metadata": {},
   "outputs": [
    {
     "data": {
      "text/plain": [
       "'thontra'"
      ]
     },
     "execution_count": 23,
     "metadata": {},
     "output_type": "execute_result"
    }
   ],
   "source": [
    "a[2:9]"
   ]
  },
  {
   "cell_type": "code",
   "execution_count": 25,
   "metadata": {},
   "outputs": [
    {
     "data": {
      "text/plain": [
       "'nt'"
      ]
     },
     "execution_count": 25,
     "metadata": {},
     "output_type": "execute_result"
    }
   ],
   "source": [
    "a='python'\n",
    "b='training'\n",
    "a[-1]+b[0]"
   ]
  },
  {
   "cell_type": "markdown",
   "metadata": {},
   "source": [
    "\n",
    "## LIST INTRODUCTION "
   ]
  },
  {
   "cell_type": "code",
   "execution_count": 1,
   "metadata": {
    "collapsed": true
   },
   "outputs": [],
   "source": [
    "### ----- LIST ----- ###\n",
    "#Sequence of numbers/strings/any other data type"
   ]
  },
  {
   "cell_type": "markdown",
   "metadata": {},
   "source": [
    "## Creating an empty list:"
   ]
  },
  {
   "cell_type": "markdown",
   "metadata": {},
   "source": [
    "There are two ways to create an empty list:\n",
    "1. a=[]\n",
    "2. b=list()"
   ]
  },
  {
   "cell_type": "markdown",
   "metadata": {},
   "source": [
    "# Positive Indexing Rules:\n",
    "#### 1. Positive Indexing starts with 0\n",
    "#### 2. Positive Indexing starts from  left to right"
   ]
  },
  {
   "cell_type": "code",
   "execution_count": 15,
   "metadata": {},
   "outputs": [
    {
     "data": {
      "text/plain": [
       "10"
      ]
     },
     "execution_count": 15,
     "metadata": {},
     "output_type": "execute_result"
    }
   ],
   "source": [
    "a=[10,'a',[0,100,2],10.1,1+2j,True,[222,33,44,55,666]]\n",
    "a[0]"
   ]
  },
  {
   "cell_type": "code",
   "execution_count": 14,
   "metadata": {},
   "outputs": [
    {
     "data": {
      "text/plain": [
       "100"
      ]
     },
     "execution_count": 14,
     "metadata": {},
     "output_type": "execute_result"
    }
   ],
   "source": [
    "a[2][1]"
   ]
  },
  {
   "cell_type": "code",
   "execution_count": 12,
   "metadata": {},
   "outputs": [
    {
     "data": {
      "text/plain": [
       "2"
      ]
     },
     "execution_count": 12,
     "metadata": {},
     "output_type": "execute_result"
    }
   ],
   "source": [
    "a[2][2]"
   ]
  },
  {
   "cell_type": "code",
   "execution_count": 11,
   "metadata": {},
   "outputs": [
    {
     "data": {
      "text/plain": [
       "10.1"
      ]
     },
     "execution_count": 11,
     "metadata": {},
     "output_type": "execute_result"
    }
   ],
   "source": [
    "a[3]"
   ]
  },
  {
   "cell_type": "code",
   "execution_count": 6,
   "metadata": {
    "scrolled": true
   },
   "outputs": [
    {
     "data": {
      "text/plain": [
       "'a'"
      ]
     },
     "execution_count": 6,
     "metadata": {},
     "output_type": "execute_result"
    }
   ],
   "source": [
    "a[1]"
   ]
  },
  {
   "cell_type": "code",
   "execution_count": 10,
   "metadata": {},
   "outputs": [
    {
     "data": {
      "text/plain": [
       "1"
      ]
     },
     "execution_count": 10,
     "metadata": {},
     "output_type": "execute_result"
    }
   ],
   "source": [
    "a[2][1]"
   ]
  },
  {
   "cell_type": "markdown",
   "metadata": {},
   "source": [
    "# Negative Indexing Rules:\n",
    "#### 1. Negative Indexing starts with -1\n",
    "#### 2. Negative Indexing starts from  right to left"
   ]
  },
  {
   "cell_type": "code",
   "execution_count": 20,
   "metadata": {},
   "outputs": [
    {
     "data": {
      "text/plain": [
       "44"
      ]
     },
     "execution_count": 20,
     "metadata": {},
     "output_type": "execute_result"
    }
   ],
   "source": [
    "a=[10,'a',[0,100,2],10.1,1+2j,True,[222,33,44,55,666]]\n",
    "a[-1][-3]"
   ]
  },
  {
   "cell_type": "code",
   "execution_count": 23,
   "metadata": {},
   "outputs": [
    {
     "data": {
      "text/plain": [
       "55"
      ]
     },
     "execution_count": 23,
     "metadata": {},
     "output_type": "execute_result"
    }
   ],
   "source": [
    "a[-1][-2]"
   ]
  },
  {
   "cell_type": "markdown",
   "metadata": {},
   "source": [
    "# Slicing"
   ]
  },
  {
   "cell_type": "raw",
   "metadata": {
    "raw_mimetype": "text/markdown"
   },
   "source": [
    "[start:stop:step]\n",
    "[n=0:n=n-1:n=1]\n",
    "[n=-1:n=n+1:n=-1]"
   ]
  },
  {
   "cell_type": "raw",
   "metadata": {
    "raw_mimetype": "text/x-python"
   },
   "source": [
    "Forward:1:stop>start\n",
    "Backward:-1:start>stop"
   ]
  },
  {
   "cell_type": "markdown",
   "metadata": {},
   "source": [
    "#### Positive slicing"
   ]
  },
  {
   "cell_type": "code",
   "execution_count": 35,
   "metadata": {},
   "outputs": [
    {
     "data": {
      "text/plain": [
       "[100, 200]"
      ]
     },
     "execution_count": 35,
     "metadata": {},
     "output_type": "execute_result"
    }
   ],
   "source": [
    "a=[100,200,300,400,500,600,700,800]\n",
    "a[0:2]"
   ]
  },
  {
   "cell_type": "code",
   "execution_count": 34,
   "metadata": {},
   "outputs": [
    {
     "data": {
      "text/plain": [
       "[300, 400, 500, 600]"
      ]
     },
     "execution_count": 34,
     "metadata": {},
     "output_type": "execute_result"
    }
   ],
   "source": [
    "#start-2-n-(n)-300\n",
    "#stop-6-n-(n-1)-600\n",
    "a[2:6]"
   ]
  },
  {
   "cell_type": "code",
   "execution_count": 36,
   "metadata": {},
   "outputs": [
    {
     "data": {
      "text/plain": [
       "[400, 500, 600, 700]"
      ]
     },
     "execution_count": 36,
     "metadata": {},
     "output_type": "execute_result"
    }
   ],
   "source": [
    "a[3:7]"
   ]
  },
  {
   "cell_type": "code",
   "execution_count": 26,
   "metadata": {},
   "outputs": [
    {
     "data": {
      "text/plain": [
       "[200, 300, 400]"
      ]
     },
     "execution_count": 26,
     "metadata": {},
     "output_type": "execute_result"
    }
   ],
   "source": [
    "a[1:4]"
   ]
  },
  {
   "cell_type": "code",
   "execution_count": 3,
   "metadata": {},
   "outputs": [
    {
     "data": {
      "text/plain": [
       "[1, 11, 3, 4, 5]"
      ]
     },
     "execution_count": 3,
     "metadata": {},
     "output_type": "execute_result"
    }
   ],
   "source": [
    "a=[1,2,3,4,5]\n",
    "a[0::-1]\n",
    "a[0::-1]\n",
    "a[0::-1]\n",
    "a[0::-1]\n",
    "a[1]=11\n",
    "a"
   ]
  },
  {
   "cell_type": "code",
   "execution_count": 3,
   "metadata": {},
   "outputs": [
    {
     "data": {
      "text/plain": [
       "[5]"
      ]
     },
     "execution_count": 3,
     "metadata": {},
     "output_type": "execute_result"
    }
   ],
   "source": [
    "a[-1::1]\n",
    "a[-1::2]\n",
    "a[-1::3]\n",
    "a[-1::4]"
   ]
  },
  {
   "cell_type": "code",
   "execution_count": 4,
   "metadata": {},
   "outputs": [
    {
     "data": {
      "text/plain": [
       "range(0, 5, 2)"
      ]
     },
     "execution_count": 4,
     "metadata": {},
     "output_type": "execute_result"
    }
   ],
   "source": [
    "range(10)[slice(0, 5, 2)]"
   ]
  },
  {
   "cell_type": "code",
   "execution_count": 5,
   "metadata": {},
   "outputs": [
    {
     "name": "stdout",
     "output_type": "stream",
     "text": [
      "[]\n",
      "[]\n"
     ]
    }
   ],
   "source": [
    "#Empty List\n",
    "l1 = []\n",
    "l2 = list()\n",
    "print(l1)\n",
    "print(l2)"
   ]
  },
  {
   "cell_type": "markdown",
   "metadata": {},
   "source": [
    "## Indexing and slicing:"
   ]
  },
  {
   "cell_type": "code",
   "execution_count": 6,
   "metadata": {},
   "outputs": [
    {
     "name": "stdout",
     "output_type": "stream",
     "text": [
      "6\n",
      "[5]\n",
      "[5, 2, 6, 3, 6, 2, 3, 5]\n",
      "[1, 5, 2, 5, 2, 6, 3, 6, 2]\n"
     ]
    }
   ],
   "source": [
    "a = [1,5,2,5,2,6,3,6,2,3,5]\n",
    "#Indexing\n",
    "b = a[5]\n",
    "print(b)\n",
    "#Slicing (start,stop,step)\n",
    "c = a[3:5:2]\n",
    "d = a[3:]\n",
    "e = a[:-2]\n",
    "print(c)\n",
    "print(d)\n",
    "print(e)"
   ]
  },
  {
   "cell_type": "markdown",
   "metadata": {},
   "source": [
    "## Built-in-functions:"
   ]
  },
  {
   "cell_type": "code",
   "execution_count": 7,
   "metadata": {},
   "outputs": [
    {
     "data": {
      "text/plain": [
       "['__add__',\n",
       " '__class__',\n",
       " '__contains__',\n",
       " '__delattr__',\n",
       " '__delitem__',\n",
       " '__dir__',\n",
       " '__doc__',\n",
       " '__eq__',\n",
       " '__format__',\n",
       " '__ge__',\n",
       " '__getattribute__',\n",
       " '__getitem__',\n",
       " '__gt__',\n",
       " '__hash__',\n",
       " '__iadd__',\n",
       " '__imul__',\n",
       " '__init__',\n",
       " '__init_subclass__',\n",
       " '__iter__',\n",
       " '__le__',\n",
       " '__len__',\n",
       " '__lt__',\n",
       " '__mul__',\n",
       " '__ne__',\n",
       " '__new__',\n",
       " '__reduce__',\n",
       " '__reduce_ex__',\n",
       " '__repr__',\n",
       " '__reversed__',\n",
       " '__rmul__',\n",
       " '__setattr__',\n",
       " '__setitem__',\n",
       " '__sizeof__',\n",
       " '__str__',\n",
       " '__subclasshook__',\n",
       " 'append',\n",
       " 'clear',\n",
       " 'copy',\n",
       " 'count',\n",
       " 'extend',\n",
       " 'index',\n",
       " 'insert',\n",
       " 'pop',\n",
       " 'remove',\n",
       " 'reverse',\n",
       " 'sort']"
      ]
     },
     "execution_count": 7,
     "metadata": {},
     "output_type": "execute_result"
    }
   ],
   "source": [
    "#dir()\n",
    "a = [1,2,3]\n",
    "dir(a)"
   ]
  },
  {
   "cell_type": "code",
   "execution_count": 8,
   "metadata": {
    "collapsed": true
   },
   "outputs": [
    {
     "name": "stdout",
     "output_type": "stream",
     "text": [
      "[1, 2, 3, 4]\n"
     ]
    }
   ],
   "source": [
    "#1. append()\n",
    "a = [1,2,3]\n",
    "a.append(4)\n",
    "print(a)"
   ]
  },
  {
   "cell_type": "code",
   "execution_count": 9,
   "metadata": {},
   "outputs": [
    {
     "name": "stdout",
     "output_type": "stream",
     "text": [
      "[2, 10, 3, 1, 1, 1]\n"
     ]
    }
   ],
   "source": [
    "#2. insert(),remove()\n",
    "a = [1,2,3,1,1,1]\n",
    "a.insert(2,10)\n",
    "a.remove(1)\n",
    "print(a)"
   ]
  },
  {
   "cell_type": "code",
   "execution_count": 10,
   "metadata": {},
   "outputs": [
    {
     "name": "stdout",
     "output_type": "stream",
     "text": [
      "[2, 3, 5, 6, 7, 7, 9, 11, 31, 45] [45, 31, 11, 9, 7, 7, 6, 5, 3, 2]\n"
     ]
    }
   ],
   "source": [
    "#3. sort() [ Both A.O and D.O ] & copy() function\n",
    "a = [6,7,2,5,3,9,7,11,45,31]\n",
    "a.sort()\n",
    "b = a.copy()\n",
    "b.sort(reverse = True)\n",
    "print(a,b)"
   ]
  },
  {
   "cell_type": "code",
   "execution_count": 11,
   "metadata": {},
   "outputs": [
    {
     "name": "stdout",
     "output_type": "stream",
     "text": [
      "[1, 2, 3, 4, 5]\n",
      "[]\n"
     ]
    }
   ],
   "source": [
    "#4. clear()\n",
    "a = [1,2,3,4,5]\n",
    "b = a.copy()\n",
    "print(b)\n",
    "b.clear()\n",
    "print(b)"
   ]
  },
  {
   "cell_type": "code",
   "execution_count": 12,
   "metadata": {},
   "outputs": [
    {
     "data": {
      "text/plain": [
       "3"
      ]
     },
     "execution_count": 12,
     "metadata": {},
     "output_type": "execute_result"
    }
   ],
   "source": [
    "#5. count()\n",
    "a = [1,2,2,3,3,3,4,4,4,4]\n",
    "a.count(3)"
   ]
  },
  {
   "cell_type": "code",
   "execution_count": 13,
   "metadata": {},
   "outputs": [
    {
     "data": {
      "text/plain": [
       "5"
      ]
     },
     "execution_count": 13,
     "metadata": {},
     "output_type": "execute_result"
    }
   ],
   "source": [
    "#6. index()\n",
    "a = [4,2,5,2,1,3,6,8,3,3,3,2]\n",
    "a.index(3)"
   ]
  },
  {
   "cell_type": "code",
   "execution_count": 14,
   "metadata": {},
   "outputs": [
    {
     "name": "stdout",
     "output_type": "stream",
     "text": [
      "10 \n",
      " [1, 2, 3, 4, 5, 6, 7, 8, 9]\n",
      "[1, 2, 3, 4, 5, 6, 8, 9]\n"
     ]
    }
   ],
   "source": [
    "#7. pop()\n",
    "a = [1,2,3,4,5,6,7,8,9,10]\n",
    "c = a.pop()\n",
    "b = a.copy()\n",
    "print(c,'\\n',b)\n",
    "b.pop(6)\n",
    "print(b)"
   ]
  },
  {
   "cell_type": "code",
   "execution_count": 3,
   "metadata": {},
   "outputs": [
    {
     "name": "stdout",
     "output_type": "stream",
     "text": [
      "[5, 3, 1, 6, 3, 2, 5, 32, 1]\n",
      "[1, 32, 5, 2, 3, 6, 1, 3, 5]\n"
     ]
    }
   ],
   "source": [
    "#8. reverse()\n",
    "a = [5,3,1,6,3,2,5,32,1]\n",
    "print(a)\n",
    "b = a.copy()\n",
    "b.reverse()\n",
    "print(b)"
   ]
  },
  {
   "cell_type": "code",
   "execution_count": 16,
   "metadata": {},
   "outputs": [
    {
     "name": "stdout",
     "output_type": "stream",
     "text": [
      "[1, 2, 3, 4, 5, 6]\n",
      "[1, 2, 3, 4, 5, 6, 7, 8, 9]\n"
     ]
    }
   ],
   "source": [
    "#9. extend()\n",
    "a = [1,2,3]\n",
    "b = [4,5,6]\n",
    "a.extend(b)\n",
    "print(a)\n",
    "b = a.copy()\n",
    "b.extend([7,8,9])\n",
    "print(b)"
   ]
  },
  {
   "cell_type": "code",
   "execution_count": 17,
   "metadata": {},
   "outputs": [
    {
     "name": "stdout",
     "output_type": "stream",
     "text": [
      "[1, 2, 3]\n"
     ]
    }
   ],
   "source": [
    "#10. copy()\n",
    "a = [1,2,3]\n",
    "b = []\n",
    "b = a.copy()\n",
    "print(b)"
   ]
  },
  {
   "cell_type": "markdown",
   "metadata": {},
   "source": [
    "## Nested Lists (with indexing and slicing):"
   ]
  },
  {
   "cell_type": "code",
   "execution_count": 18,
   "metadata": {},
   "outputs": [
    {
     "name": "stdout",
     "output_type": "stream",
     "text": [
      "[[1, 2, 3, 4], [5, 6, 7, 8, 9, 10]]\n",
      "2\n",
      "[6, 7, 8]\n",
      "[8, 7, 6]\n",
      "-------------------------------------\n",
      "[[1, 2, 3], [4, 5, 6], [7, 8, 9]]\n",
      "8\n",
      "[1, 2]\n",
      "[2, 1]\n"
     ]
    }
   ],
   "source": [
    "#NESTED LIST\n",
    "#one can have many lists in a list, here are a few types....\n",
    "#type 1\n",
    "l1 = [1,2,3,4]\n",
    "l2 = [5,6,7,8,9,10]\n",
    "matrix1 = [l1,l2]\n",
    "print(matrix1)\n",
    "\n",
    "#indexing and slicing for type1\n",
    "\n",
    "#indexing\n",
    "print(matrix1[0][1])\n",
    "\n",
    "#slicing\n",
    "# ----- forward order -----\n",
    "print(matrix1[1][1:-2])\n",
    "# ----- reverse order -----\n",
    "print(matrix1[1][-3:-6:-1])\n",
    "\n",
    "print('-------------------------------------')\n",
    "#type2\n",
    "l1 = [1,2,3]\n",
    "l2 = [4,5,6]\n",
    "l3 = [7,8,9]\n",
    "matrix2 = [l1,l2,l3]\n",
    "print(matrix2)\n",
    "\n",
    "#indexing and slicing for type2\n",
    "\n",
    "#indexing\n",
    "print(matrix2[2][1])\n",
    "\n",
    "#slicing\n",
    "# ----- forward order -----\n",
    "print(matrix2[0][0:2])\n",
    "# ----- reverse order -----\n",
    "print(matrix2[0][-2:-4:-1])\n"
   ]
  },
  {
   "cell_type": "markdown",
   "metadata": {},
   "source": [
    "## List comprehension:"
   ]
  },
  {
   "cell_type": "code",
   "execution_count": 19,
   "metadata": {},
   "outputs": [
    {
     "name": "stdout",
     "output_type": "stream",
     "text": [
      "[1, 4, 9]\n"
     ]
    }
   ],
   "source": [
    "#LIST COMPREHENSION\n",
    "#Sytanx: [expression for item in list if condition]\n",
    "\n",
    "l1 = [1,2,3]\n",
    "print([t**2 for t in l1])\n",
    "#type(t)   #this variable t is created in run time, once the list is done, t is destroyed"
   ]
  },
  {
   "cell_type": "code",
   "execution_count": 20,
   "metadata": {},
   "outputs": [
    {
     "name": "stdout",
     "output_type": "stream",
     "text": [
      "[[1, 2, 3], [2, 3, 4], [4, 5, 6]]\n",
      "[1, 2, 4]\n",
      "[2, 4, 8]\n"
     ]
    }
   ],
   "source": [
    "l1 = [1,2,3]\n",
    "l2 = [2,3,4]\n",
    "l3 = [4,5,6]\n",
    "matrix = [l1,l2,l3]\n",
    "print(matrix)\n",
    "\n",
    "\n",
    "first_col = [row[0] for row in matrix]\n",
    "print(first_col)\n",
    "\n",
    "\n",
    "first_col_op = [row[0]*2 for row in matrix]\n",
    "print(first_col_op)"
   ]
  },
  {
   "cell_type": "markdown",
   "metadata": {},
   "source": [
    "# Tuple Introduction:"
   ]
  },
  {
   "cell_type": "code",
   "execution_count": 21,
   "metadata": {},
   "outputs": [
    {
     "name": "stdout",
     "output_type": "stream",
     "text": [
      "1\n"
     ]
    }
   ],
   "source": [
    "t = (1,2,3)\n",
    "print(t[0])\n",
    "#t[0] = 4                #TUPLE IS AN IMMUTABLE DATA TYPE"
   ]
  },
  {
   "cell_type": "markdown",
   "metadata": {},
   "source": [
    "## Creating an empty tuple:"
   ]
  },
  {
   "cell_type": "code",
   "execution_count": 22,
   "metadata": {
    "collapsed": true
   },
   "outputs": [],
   "source": [
    "#two ways for tuples like list:\n",
    "t = ()\n",
    "tt = tuple()"
   ]
  },
  {
   "cell_type": "markdown",
   "metadata": {},
   "source": [
    "## Built-in-functions:"
   ]
  },
  {
   "cell_type": "code",
   "execution_count": 23,
   "metadata": {},
   "outputs": [
    {
     "data": {
      "text/plain": [
       "['__add__',\n",
       " '__class__',\n",
       " '__contains__',\n",
       " '__delattr__',\n",
       " '__dir__',\n",
       " '__doc__',\n",
       " '__eq__',\n",
       " '__format__',\n",
       " '__ge__',\n",
       " '__getattribute__',\n",
       " '__getitem__',\n",
       " '__getnewargs__',\n",
       " '__gt__',\n",
       " '__hash__',\n",
       " '__init__',\n",
       " '__init_subclass__',\n",
       " '__iter__',\n",
       " '__le__',\n",
       " '__len__',\n",
       " '__lt__',\n",
       " '__mul__',\n",
       " '__ne__',\n",
       " '__new__',\n",
       " '__reduce__',\n",
       " '__reduce_ex__',\n",
       " '__repr__',\n",
       " '__rmul__',\n",
       " '__setattr__',\n",
       " '__sizeof__',\n",
       " '__str__',\n",
       " '__subclasshook__',\n",
       " 'count',\n",
       " 'index']"
      ]
     },
     "execution_count": 23,
     "metadata": {},
     "output_type": "execute_result"
    }
   ],
   "source": [
    "dir(t)"
   ]
  },
  {
   "cell_type": "code",
   "execution_count": 24,
   "metadata": {},
   "outputs": [
    {
     "data": {
      "text/plain": [
       "2"
      ]
     },
     "execution_count": 24,
     "metadata": {},
     "output_type": "execute_result"
    }
   ],
   "source": [
    "#1. count()\n",
    "t = (1,2,2,3,3,3,4,4,4,4)\n",
    "t.count(2)"
   ]
  },
  {
   "cell_type": "code",
   "execution_count": 25,
   "metadata": {},
   "outputs": [
    {
     "data": {
      "text/plain": [
       "1"
      ]
     },
     "execution_count": 25,
     "metadata": {},
     "output_type": "execute_result"
    }
   ],
   "source": [
    "#2. index()\n",
    "t.index(2)"
   ]
  },
  {
   "cell_type": "markdown",
   "metadata": {},
   "source": [
    "# Strings Introduction:"
   ]
  },
  {
   "cell_type": "code",
   "execution_count": 26,
   "metadata": {
    "collapsed": true
   },
   "outputs": [],
   "source": [
    "#A String is a sequence of characters\n",
    "#properties of strings\n",
    "#strings are immutable\n",
    "#s[1] = 'x'"
   ]
  },
  {
   "cell_type": "code",
   "execution_count": 27,
   "metadata": {},
   "outputs": [
    {
     "data": {
      "text/plain": [
       "'hello world'"
      ]
     },
     "execution_count": 27,
     "metadata": {},
     "output_type": "execute_result"
    }
   ],
   "source": [
    "### Concatenation\n",
    "s = \"hello\"\n",
    "p = \" world\"\n",
    "s+p"
   ]
  },
  {
   "cell_type": "code",
   "execution_count": 28,
   "metadata": {},
   "outputs": [
    {
     "data": {
      "text/plain": [
       "'hello world k'"
      ]
     },
     "execution_count": 28,
     "metadata": {},
     "output_type": "execute_result"
    }
   ],
   "source": [
    "s+p+\" k\""
   ]
  },
  {
   "cell_type": "markdown",
   "metadata": {},
   "source": [
    "## Indexing and slicing:"
   ]
  },
  {
   "cell_type": "code",
   "execution_count": 29,
   "metadata": {},
   "outputs": [
    {
     "name": "stdout",
     "output_type": "stream",
     "text": [
      "world\n",
      "dlrow olleh\n",
      "drwolh\n",
      "------------------------------------------------------\n",
      "11\n",
      "r\n",
      "llo world\n",
      "l o\n",
      "lrow olleh\n"
     ]
    }
   ],
   "source": [
    "#indexing and slicing\n",
    "s = \"hello world\"\n",
    "print(s[6:11])\n",
    "print(s[::-1])    #print in reverse order\n",
    "print(s[::-2])\n",
    "\n",
    "print('------------------------------------------------------')\n",
    "s = \"hello world\"\n",
    "print(len(s))\n",
    "#indexing:\n",
    "print(s[8])\n",
    "\n",
    "#slicing:\n",
    "print(s[2:])\n",
    "print(s[3:8:2])\n",
    "print(s[-2::-1])"
   ]
  },
  {
   "cell_type": "markdown",
   "metadata": {},
   "source": [
    "#### Built-In-Methods of Strings:"
   ]
  },
  {
   "cell_type": "code",
   "execution_count": 30,
   "metadata": {},
   "outputs": [
    {
     "data": {
      "text/plain": [
       "['__add__',\n",
       " '__class__',\n",
       " '__contains__',\n",
       " '__delattr__',\n",
       " '__dir__',\n",
       " '__doc__',\n",
       " '__eq__',\n",
       " '__format__',\n",
       " '__ge__',\n",
       " '__getattribute__',\n",
       " '__getitem__',\n",
       " '__getnewargs__',\n",
       " '__gt__',\n",
       " '__hash__',\n",
       " '__init__',\n",
       " '__init_subclass__',\n",
       " '__iter__',\n",
       " '__le__',\n",
       " '__len__',\n",
       " '__lt__',\n",
       " '__mod__',\n",
       " '__mul__',\n",
       " '__ne__',\n",
       " '__new__',\n",
       " '__reduce__',\n",
       " '__reduce_ex__',\n",
       " '__repr__',\n",
       " '__rmod__',\n",
       " '__rmul__',\n",
       " '__setattr__',\n",
       " '__sizeof__',\n",
       " '__str__',\n",
       " '__subclasshook__',\n",
       " 'capitalize',\n",
       " 'casefold',\n",
       " 'center',\n",
       " 'count',\n",
       " 'encode',\n",
       " 'endswith',\n",
       " 'expandtabs',\n",
       " 'find',\n",
       " 'format',\n",
       " 'format_map',\n",
       " 'index',\n",
       " 'isalnum',\n",
       " 'isalpha',\n",
       " 'isascii',\n",
       " 'isdecimal',\n",
       " 'isdigit',\n",
       " 'isidentifier',\n",
       " 'islower',\n",
       " 'isnumeric',\n",
       " 'isprintable',\n",
       " 'isspace',\n",
       " 'istitle',\n",
       " 'isupper',\n",
       " 'join',\n",
       " 'ljust',\n",
       " 'lower',\n",
       " 'lstrip',\n",
       " 'maketrans',\n",
       " 'partition',\n",
       " 'replace',\n",
       " 'rfind',\n",
       " 'rindex',\n",
       " 'rjust',\n",
       " 'rpartition',\n",
       " 'rsplit',\n",
       " 'rstrip',\n",
       " 'split',\n",
       " 'splitlines',\n",
       " 'startswith',\n",
       " 'strip',\n",
       " 'swapcase',\n",
       " 'title',\n",
       " 'translate',\n",
       " 'upper',\n",
       " 'zfill']"
      ]
     },
     "execution_count": 30,
     "metadata": {},
     "output_type": "execute_result"
    }
   ],
   "source": [
    "#Strings\n",
    "str = \"hello world\"\n",
    "dir(str)"
   ]
  },
  {
   "cell_type": "code",
   "execution_count": 31,
   "metadata": {},
   "outputs": [
    {
     "data": {
      "text/plain": [
       "'Hello world'"
      ]
     },
     "execution_count": 31,
     "metadata": {},
     "output_type": "execute_result"
    }
   ],
   "source": [
    "#BUILT-IN-METHODS\n",
    "#1. capitalize()\n",
    "str = \"Hello World\"\n",
    "str.capitalize()"
   ]
  },
  {
   "cell_type": "code",
   "execution_count": 32,
   "metadata": {},
   "outputs": [
    {
     "name": "stdout",
     "output_type": "stream",
     "text": [
      "hello world\n",
      "hello world\n"
     ]
    }
   ],
   "source": [
    "#2. casefold()\n",
    "str = \"Hello World\"\n",
    "print(str.casefold())\n",
    "str = \"HELLO WORLD\"\n",
    "print(str.casefold())"
   ]
  },
  {
   "cell_type": "code",
   "execution_count": 28,
   "metadata": {},
   "outputs": [
    {
     "name": "stdout",
     "output_type": "stream",
     "text": [
      "11\n"
     ]
    }
   ],
   "source": [
    "#3. center()\n",
    "# the width entered should be equal to or more than the length of the string\n",
    "# default: spaces , else you can replace the spaces with letter as shown\n",
    "str=\"Hello World\"\n",
    "print(len(str))\n",
    "str.center(20,\"a\")\n",
    "c=\"1\" # string\n",
    "c=1 # integer"
   ]
  },
  {
   "cell_type": "code",
   "execution_count": 30,
   "metadata": {},
   "outputs": [
    {
     "name": "stdout",
     "output_type": "stream",
     "text": [
      "0\n",
      "2\n"
     ]
    }
   ],
   "source": [
    "#4. count()\n",
    "#case-sensitive\n",
    "#to count all letters regardless of the case, convert all letter to either lower or upper case and then find the count\n",
    "str = \"Hello World\"\n",
    "#print - built-in function\n",
    "#count - built-in method [which is given after .]\n",
    "print(str.count('a'))\n",
    "str = \"Hello world\"\n",
    "print(str.count('o'))"
   ]
  },
  {
   "cell_type": "code",
   "execution_count": 31,
   "metadata": {},
   "outputs": [],
   "source": [
    "#5. encode()\n",
    "# utf-8"
   ]
  },
  {
   "cell_type": "code",
   "execution_count": 36,
   "metadata": {},
   "outputs": [
    {
     "name": "stdout",
     "output_type": "stream",
     "text": [
      "False\n",
      "True\n"
     ]
    }
   ],
   "source": [
    "#6. endswidth()\n",
    "str = \"Hello World\"\n",
    "print(str.endswith('u'))\n",
    "print(str.endswith(\"d\"))"
   ]
  },
  {
   "cell_type": "code",
   "execution_count": 32,
   "metadata": {},
   "outputs": [
    {
     "data": {
      "text/plain": [
       "'Hello   World'"
      ]
     },
     "execution_count": 32,
     "metadata": {},
     "output_type": "execute_result"
    }
   ],
   "source": [
    "#7. expandtabs()\n",
    "#used for \\t purposes - \\t - tab, \\n - new line\n",
    "str = \"Hello\\tWorld\"\n",
    "str.expandtabs()\n",
    "#jupyter notebook has the nature of printing by default, so even if we don't give print, it prints."
   ]
  },
  {
   "cell_type": "code",
   "execution_count": 37,
   "metadata": {},
   "outputs": [
    {
     "name": "stdout",
     "output_type": "stream",
     "text": [
      "-1\n",
      "8\n",
      "0\n"
     ]
    }
   ],
   "source": [
    "#8. find()\n",
    "#if it doesn't find the alphabet, it throws -1\n",
    "#finds the lowest index of the given search letter/substring\n",
    "str = \"Hello World\"\n",
    "print(str.find(\"y\"))\n",
    "print(str.find(\"rld\"))\n",
    "print(str.find(\"H\"))   #difference between the find() and index()"
   ]
  },
  {
   "cell_type": "code",
   "execution_count": 34,
   "metadata": {},
   "outputs": [
    {
     "name": "stdout",
     "output_type": "stream",
     "text": [
      "Hello 100 world 2\n"
     ]
    }
   ],
   "source": [
    "#9. format()\n",
    "s1 = 100\n",
    "s2 = 2\n",
    "str = \"Hello {} world {}\".format(s1,s2)\n",
    "print(str)"
   ]
  },
  {
   "cell_type": "code",
   "execution_count": 35,
   "metadata": {},
   "outputs": [
    {
     "data": {
      "text/plain": [
       "<function str.format_map>"
      ]
     },
     "execution_count": 35,
     "metadata": {},
     "output_type": "execute_result"
    }
   ],
   "source": [
    "#10. format_map\n",
    "s1='hello'\n",
    "s1.format_map"
   ]
  },
  {
   "cell_type": "code",
   "execution_count": 39,
   "metadata": {},
   "outputs": [
    {
     "name": "stdout",
     "output_type": "stream",
     "text": [
      "0\n",
      "6\n",
      "1\n"
     ]
    }
   ],
   "source": [
    "#11. index()\n",
    "#if it doesn't find the alphabet, it throws ValueError\n",
    "str = \"Hello World\"\n",
    "print(str.index(\"H\"))\n",
    "print(str.index(\"W\"))\n",
    "print(str.index(\"e\"))  #difference in the index() and find()"
   ]
  },
  {
   "cell_type": "code",
   "execution_count": 40,
   "metadata": {},
   "outputs": [
    {
     "name": "stdout",
     "output_type": "stream",
     "text": [
      "False\n",
      "True\n"
     ]
    }
   ],
   "source": [
    "#12. isalnum()\n",
    "str = \"Hello 123\"       #contains space, hence returns false\n",
    "print(str.isalnum())\n",
    "str = \"Hello123\"\n",
    "print(str.isalnum())     "
   ]
  },
  {
   "cell_type": "code",
   "execution_count": 41,
   "metadata": {},
   "outputs": [
    {
     "name": "stdout",
     "output_type": "stream",
     "text": [
      "False\n",
      "False\n",
      "True\n"
     ]
    }
   ],
   "source": [
    "#13. isalpha()\n",
    "str = \"Hello 123\"       #contains space, hence returns false\n",
    "print(str.isalpha())\n",
    "str = \"Hello123\"\n",
    "print(str.isalpha())\n",
    "str = \"Hello\"\n",
    "print(str.isalpha())"
   ]
  },
  {
   "cell_type": "code",
   "execution_count": 42,
   "metadata": {},
   "outputs": [
    {
     "name": "stdout",
     "output_type": "stream",
     "text": [
      "True\n",
      "False\n"
     ]
    }
   ],
   "source": [
    "#14. isacii()\n",
    "str = \" S , . / ; ' [ ] - '\"\n",
    "print(str.isascii())\n",
    "str = \"漢字\"\n",
    "print(str.isascii())"
   ]
  },
  {
   "cell_type": "code",
   "execution_count": 43,
   "metadata": {},
   "outputs": [
    {
     "name": "stdout",
     "output_type": "stream",
     "text": [
      "False\n",
      "False\n",
      "True\n"
     ]
    }
   ],
   "source": [
    "#15. isdecimal()\n",
    "str = \"Hello123\"\n",
    "print(str.isdecimal())\n",
    "str = \"Hello 123\"\n",
    "print(str.isdecimal())\n",
    "str = \"123\"\n",
    "print(str.isdecimal())"
   ]
  },
  {
   "cell_type": "code",
   "execution_count": 44,
   "metadata": {},
   "outputs": [
    {
     "name": "stdout",
     "output_type": "stream",
     "text": [
      "False\n",
      "False\n",
      "True\n",
      "False\n"
     ]
    }
   ],
   "source": [
    "#16. isdigit()\n",
    "str = \"Hello123\"\n",
    "print(str.isdigit())\n",
    "str = \"Hello 123\"\n",
    "print(str.isdigit())\n",
    "str = \"123\"\n",
    "print(str.isdigit())\n",
    "str = \"123.45\"\n",
    "print(str.isdigit())"
   ]
  },
  {
   "cell_type": "code",
   "execution_count": 45,
   "metadata": {},
   "outputs": [
    {
     "name": "stdout",
     "output_type": "stream",
     "text": [
      "False\n",
      "True\n",
      "True\n",
      "True\n"
     ]
    }
   ],
   "source": [
    "#17. isidentifier()\n",
    "#reserved keywords like and,or,is,in etc, also it could start with an underscore __\n",
    "str = \"Hello World\"\n",
    "print(str.isidentifier())\n",
    "str = \"and\"\n",
    "print(str.isidentifier())\n",
    "str = \"is\"\n",
    "print(str.isidentifier())\n",
    "str = \"__mod__\"\n",
    "print(str.isidentifier())"
   ]
  },
  {
   "cell_type": "code",
   "execution_count": 46,
   "metadata": {},
   "outputs": [
    {
     "data": {
      "text/plain": [
       "False"
      ]
     },
     "execution_count": 46,
     "metadata": {},
     "output_type": "execute_result"
    }
   ],
   "source": [
    "#18. islower()\n",
    "#gives a bool result whether the given string is in lower case or not\n",
    "str = \"Hello world\"\n",
    "str.islower()"
   ]
  },
  {
   "cell_type": "code",
   "execution_count": 47,
   "metadata": {},
   "outputs": [
    {
     "name": "stdout",
     "output_type": "stream",
     "text": [
      "False\n",
      "True\n",
      "False\n"
     ]
    }
   ],
   "source": [
    "#19. isnumeric()\n",
    "str = \"Hello123\"\n",
    "print(str.isnumeric())\n",
    "str = \"123\"\n",
    "print(str.isnumeric())\n",
    "str = \"12.3\"\n",
    "print(str.isnumeric())"
   ]
  },
  {
   "cell_type": "code",
   "execution_count": 48,
   "metadata": {},
   "outputs": [
    {
     "name": "stdout",
     "output_type": "stream",
     "text": [
      "True\n",
      "True\n",
      "True\n"
     ]
    }
   ],
   "source": [
    "#20. isprintable()\n",
    "str = \"Hello World\"\n",
    "print(str.isprintable())\n",
    "str = \" \"\n",
    "print(str.isprintable())\n",
    "str = \"12.3\"\n",
    "print(str.isprintable())"
   ]
  },
  {
   "cell_type": "code",
   "execution_count": 49,
   "metadata": {},
   "outputs": [
    {
     "name": "stdout",
     "output_type": "stream",
     "text": [
      "False\n",
      "False\n",
      "True\n"
     ]
    }
   ],
   "source": [
    "#21 isspace()\n",
    "str = \"Hello World\"\n",
    "print(str.isspace())\n",
    "str = \"\"\n",
    "print(str.isspace())\n",
    "str = \" \"\n",
    "print(str.isspace())"
   ]
  },
  {
   "cell_type": "code",
   "execution_count": 50,
   "metadata": {},
   "outputs": [
    {
     "name": "stdout",
     "output_type": "stream",
     "text": [
      "True\n",
      "True\n",
      "False\n",
      "False\n"
     ]
    }
   ],
   "source": [
    "#21. istitle()\n",
    "str = \"Hello World\"\n",
    "print(str.istitle())\n",
    "str = \"Hello\"\n",
    "print(str.istitle())\n",
    "str = \"Hello world\"\n",
    "print(str.istitle())\n",
    "str = \"Hello world\"\n",
    "print(str.istitle())"
   ]
  },
  {
   "cell_type": "code",
   "execution_count": 51,
   "metadata": {},
   "outputs": [
    {
     "data": {
      "text/plain": [
       "False"
      ]
     },
     "execution_count": 51,
     "metadata": {},
     "output_type": "execute_result"
    }
   ],
   "source": [
    "#22. isupper()\n",
    "str = \"Hello world\"\n",
    "str.isupper()"
   ]
  },
  {
   "cell_type": "code",
   "execution_count": 52,
   "metadata": {},
   "outputs": [
    {
     "name": "stdout",
     "output_type": "stream",
     "text": [
      "wHellooHellorHellolHellod\n",
      "HPePlPlPo\n"
     ]
    }
   ],
   "source": [
    "#23. join()\n",
    "str1 = \"Hello\"\n",
    "str2 = \"world\"\n",
    "print(str1.join(str2))\n",
    "str3 = \"P\"\n",
    "print(str3.join(str1))"
   ]
  },
  {
   "cell_type": "code",
   "execution_count": 53,
   "metadata": {},
   "outputs": [
    {
     "data": {
      "text/plain": [
       "'Hello     '"
      ]
     },
     "execution_count": 53,
     "metadata": {},
     "output_type": "execute_result"
    }
   ],
   "source": [
    "#24. ljust()\n",
    "s = \"Hello\"\n",
    "s.ljust(10)"
   ]
  },
  {
   "cell_type": "code",
   "execution_count": 54,
   "metadata": {},
   "outputs": [
    {
     "data": {
      "text/plain": [
       "'hello'"
      ]
     },
     "execution_count": 54,
     "metadata": {},
     "output_type": "execute_result"
    }
   ],
   "source": [
    "#25. lower()\n",
    "s = \"Hello\"\n",
    "s.lower()"
   ]
  },
  {
   "cell_type": "code",
   "execution_count": 55,
   "metadata": {},
   "outputs": [
    {
     "name": "stdout",
     "output_type": "stream",
     "text": [
      "     Hello World\n",
      "Hello World\n",
      "H E L L O\n"
     ]
    }
   ],
   "source": [
    "#26. lstrip()\n",
    "#removes the leading whitespace\n",
    "s = \"     Hello World\"\n",
    "print(s)\n",
    "print(s.lstrip())\n",
    "s = \" H E L L O\"\n",
    "print(s.lstrip())"
   ]
  },
  {
   "cell_type": "code",
   "execution_count": 56,
   "metadata": {},
   "outputs": [
    {
     "name": "stdout",
     "output_type": "stream",
     "text": [
      "{97: 49, 101: 50, 105: 51, 111: 52, 117: 53}\n"
     ]
    }
   ],
   "source": [
    "#27. maketrans()\n",
    "''' Return a translation table usable for str.translate().  '''\n",
    "\n",
    "#these are case sensitive\n",
    "#Replaces the Ascii values of the intab with the outtab\n",
    "intab = 'aeiou'\n",
    "outab = \"12345\"\n",
    "trantab = str.maketrans(intab,outab)\n",
    "print(trantab)"
   ]
  },
  {
   "cell_type": "code",
   "execution_count": 57,
   "metadata": {},
   "outputs": [
    {
     "data": {
      "text/plain": [
       "('Hell', 'o', ' World')"
      ]
     },
     "execution_count": 57,
     "metadata": {},
     "output_type": "execute_result"
    }
   ],
   "source": [
    "#28. partition()\n",
    "#works as lpartition()\n",
    "s1 = \"Hello World\"\n",
    "s1.partition(\"o\")"
   ]
  },
  {
   "cell_type": "code",
   "execution_count": 58,
   "metadata": {},
   "outputs": [
    {
     "data": {
      "text/plain": [
       "'Haannjjllo'"
      ]
     },
     "execution_count": 58,
     "metadata": {},
     "output_type": "execute_result"
    }
   ],
   "source": [
    "#29. replace()\n",
    "s1 = \"Hello\"\n",
    "s1.replace(\"e\",\"aannjj\")"
   ]
  },
  {
   "cell_type": "code",
   "execution_count": 59,
   "metadata": {},
   "outputs": [
    {
     "name": "stdout",
     "output_type": "stream",
     "text": [
      "-1\n",
      "-1\n",
      "4\n"
     ]
    }
   ],
   "source": [
    "#30. rfind()\n",
    "#returns the rightmost or the highest index possible of a given letter/substring\n",
    "s1 = \"Hello World\"\n",
    "print(s1.rfind(\"a\"))\n",
    "print(s1.rfind(\"Q\"))\n",
    "s = \"aaaaabb\"\n",
    "print(s.rfind(\"a\"))"
   ]
  },
  {
   "cell_type": "code",
   "execution_count": 60,
   "metadata": {},
   "outputs": [
    {
     "name": "stdout",
     "output_type": "stream",
     "text": [
      "1\n",
      "4\n",
      "10\n"
     ]
    }
   ],
   "source": [
    "#31. rindex()\n",
    "s1 = \"Hello World\"\n",
    "print(s1.rindex(\"e\"))\n",
    "s = \"aaaaabb\"\n",
    "print(s.rindex(\"a\"))\n",
    "print(s1.rindex(\"d\"))"
   ]
  },
  {
   "cell_type": "code",
   "execution_count": 61,
   "metadata": {},
   "outputs": [
    {
     "data": {
      "text/plain": [
       "'     Hello'"
      ]
     },
     "execution_count": 61,
     "metadata": {},
     "output_type": "execute_result"
    }
   ],
   "source": [
    "#32. rjust()\n",
    "s = \"Hello\"\n",
    "s.rjust(10)"
   ]
  },
  {
   "cell_type": "code",
   "execution_count": 62,
   "metadata": {},
   "outputs": [
    {
     "data": {
      "text/plain": [
       "('Hello W', 'o', 'rld')"
      ]
     },
     "execution_count": 62,
     "metadata": {},
     "output_type": "execute_result"
    }
   ],
   "source": [
    "#33. rpartition()\n",
    "s = \"Hello World\"\n",
    "s.rpartition(\"o\")"
   ]
  },
  {
   "cell_type": "code",
   "execution_count": 63,
   "metadata": {},
   "outputs": [
    {
     "name": "stdout",
     "output_type": "stream",
     "text": [
      "['Hell', ' W', 'rld']\n",
      "['He', '', 'o Wor', 'd']\n"
     ]
    }
   ],
   "source": [
    "#34. rsplit()\n",
    "s = \"Hello World\"\n",
    "print(s.rsplit(\"o\"))\n",
    "print(s.rsplit(\"l\"))"
   ]
  },
  {
   "cell_type": "code",
   "execution_count": 64,
   "metadata": {},
   "outputs": [
    {
     "name": "stdout",
     "output_type": "stream",
     "text": [
      "Hello World   \n"
     ]
    },
    {
     "data": {
      "text/plain": [
       "'Hello World'"
      ]
     },
     "execution_count": 64,
     "metadata": {},
     "output_type": "execute_result"
    }
   ],
   "source": [
    "#35. rstrip()\n",
    "#removes the trailing whitespace\n",
    "s =\"Hello World   \"\n",
    "print(s)\n",
    "s.rstrip()"
   ]
  },
  {
   "cell_type": "code",
   "execution_count": 65,
   "metadata": {},
   "outputs": [
    {
     "name": "stdout",
     "output_type": "stream",
     "text": [
      "3\n",
      "['He', '', 'o Wor', 'd']\n",
      "['He', 'lo World']\n",
      "['He', '', 'o World']\n",
      "['He', '', 'o Wor', 'd']\n"
     ]
    }
   ],
   "source": [
    "#36. split()\n",
    "s = \"Hello World\"\n",
    "print(s.count(\"l\"))\n",
    "print(s.split(\"l\"))\n",
    "print(s.split(\"l\",1))\n",
    "print(s.split(\"l\",2))\n",
    "print(s.split(\"l\",3))"
   ]
  },
  {
   "cell_type": "code",
   "execution_count": 66,
   "metadata": {},
   "outputs": [
    {
     "data": {
      "text/plain": [
       "['Hello', 'world']"
      ]
     },
     "execution_count": 66,
     "metadata": {},
     "output_type": "execute_result"
    }
   ],
   "source": [
    "#37. splitlines()\n",
    "s = \"Hello\\nworld\"\n",
    "s.splitlines()"
   ]
  },
  {
   "cell_type": "code",
   "execution_count": 67,
   "metadata": {},
   "outputs": [
    {
     "name": "stdout",
     "output_type": "stream",
     "text": [
      "True\n",
      "False\n"
     ]
    }
   ],
   "source": [
    "#38. startswith()\n",
    "s = \"Hello\"\n",
    "print(s.startswith(\"H\"))\n",
    "print(s.startswith(\"S\"))"
   ]
  },
  {
   "cell_type": "code",
   "execution_count": 68,
   "metadata": {},
   "outputs": [
    {
     "data": {
      "text/plain": [
       "'Hello World'"
      ]
     },
     "execution_count": 68,
     "metadata": {},
     "output_type": "execute_result"
    }
   ],
   "source": [
    "#39. strip()\n",
    "#removes the trailing and the leading whitespace\n",
    "s = \"   Hello World   \"\n",
    "s.strip()"
   ]
  },
  {
   "cell_type": "code",
   "execution_count": 69,
   "metadata": {},
   "outputs": [
    {
     "data": {
      "text/plain": [
       "'hELLO WORLD'"
      ]
     },
     "execution_count": 69,
     "metadata": {},
     "output_type": "execute_result"
    }
   ],
   "source": [
    "#40. swapcase()\n",
    "s = \"Hello world\"\n",
    "s.swapcase()"
   ]
  },
  {
   "cell_type": "code",
   "execution_count": 70,
   "metadata": {},
   "outputs": [
    {
     "data": {
      "text/plain": [
       "'Hello World'"
      ]
     },
     "execution_count": 70,
     "metadata": {},
     "output_type": "execute_result"
    }
   ],
   "source": [
    "#41. title()\n",
    "s = \"Hello world\"\n",
    "s.title()"
   ]
  },
  {
   "cell_type": "code",
   "execution_count": 71,
   "metadata": {},
   "outputs": [
    {
     "name": "stdout",
     "output_type": "stream",
     "text": [
      "{97: 49, 101: 50, 105: 51, 111: 52, 117: 53}\n",
      "H2ll4 w4rld, I 1m H2ll4\n"
     ]
    }
   ],
   "source": [
    "#42. translate()\n",
    "''' Replace each character in the string using the given translation table.  '''\n",
    "#maketrans() and translate() of the strings:\n",
    "#these are case sensitive\n",
    "intab = 'aeiou'\n",
    "outab = \"12345\"\n",
    "trantab = str.maketrans(intab,outab)\n",
    "print(trantab)\n",
    "\n",
    "s = \"Hello world, I am Hello\"\n",
    "print(s.translate(trantab))"
   ]
  },
  {
   "cell_type": "code",
   "execution_count": 72,
   "metadata": {},
   "outputs": [
    {
     "data": {
      "text/plain": [
       "'HELLO'"
      ]
     },
     "execution_count": 72,
     "metadata": {},
     "output_type": "execute_result"
    }
   ],
   "source": [
    "#43. upper()\n",
    "s = \"Hello\"\n",
    "s.upper()"
   ]
  },
  {
   "cell_type": "code",
   "execution_count": 73,
   "metadata": {},
   "outputs": [
    {
     "name": "stdout",
     "output_type": "stream",
     "text": [
      "20\n",
      "000000000000000000000000000000      123Hello World\n",
      "000      123Hello World\n",
      "00000      123Hello World\n"
     ]
    }
   ],
   "source": [
    "#44. zfill()\n",
    "s = \"      123Hello World\"\n",
    "print(len(s))\n",
    "print(s.zfill(50))\n",
    "print(s.zfill(23))\n",
    "print(s.zfill(25))\n"
   ]
  },
  {
   "cell_type": "markdown",
   "metadata": {},
   "source": [
    "# Dictionary Introduction:"
   ]
  },
  {
   "cell_type": "code",
   "execution_count": 76,
   "metadata": {
    "collapsed": true
   },
   "outputs": [],
   "source": [
    "#dictionary{keys:values}\n",
    "#item = key and value"
   ]
  },
  {
   "cell_type": "markdown",
   "metadata": {},
   "source": [
    "## Creating an empty dictionary:"
   ]
  },
  {
   "cell_type": "code",
   "execution_count": 77,
   "metadata": {
    "collapsed": true
   },
   "outputs": [],
   "source": [
    "#dicionary\n",
    "#two ways of creating an empty dictionary\n",
    "d = {}\n",
    "dd = dict()"
   ]
  },
  {
   "cell_type": "markdown",
   "metadata": {},
   "source": [
    "## Indexing and slicing:"
   ]
  },
  {
   "cell_type": "code",
   "execution_count": 78,
   "metadata": {
    "collapsed": true
   },
   "outputs": [
    {
     "name": "stdout",
     "output_type": "stream",
     "text": [
      "123\n",
      "3\n",
      "['2', '3']\n",
      "['3', '2', '1']\n"
     ]
    }
   ],
   "source": [
    "#indexing and slicing\n",
    "d = {'k1':123,'k2':'123','k3':[1,2,3],'k4':['1','2','3'],'k5':(1,2,3)}\n",
    "print(d['k1'])\n",
    "print(d['k2'][2]) \n",
    "print(d['k4'][1:])\n",
    "print(d['k4'][2::-1])"
   ]
  },
  {
   "cell_type": "markdown",
   "metadata": {},
   "source": [
    "## Built-in-functions:\n"
   ]
  },
  {
   "cell_type": "code",
   "execution_count": 79,
   "metadata": {
    "collapsed": true
   },
   "outputs": [
    {
     "data": {
      "text/plain": [
       "['__class__',\n",
       " '__contains__',\n",
       " '__delattr__',\n",
       " '__delitem__',\n",
       " '__dir__',\n",
       " '__doc__',\n",
       " '__eq__',\n",
       " '__format__',\n",
       " '__ge__',\n",
       " '__getattribute__',\n",
       " '__getitem__',\n",
       " '__gt__',\n",
       " '__hash__',\n",
       " '__init__',\n",
       " '__init_subclass__',\n",
       " '__iter__',\n",
       " '__le__',\n",
       " '__len__',\n",
       " '__lt__',\n",
       " '__ne__',\n",
       " '__new__',\n",
       " '__reduce__',\n",
       " '__reduce_ex__',\n",
       " '__repr__',\n",
       " '__setattr__',\n",
       " '__setitem__',\n",
       " '__sizeof__',\n",
       " '__str__',\n",
       " '__subclasshook__',\n",
       " 'clear',\n",
       " 'copy',\n",
       " 'fromkeys',\n",
       " 'get',\n",
       " 'items',\n",
       " 'keys',\n",
       " 'pop',\n",
       " 'popitem',\n",
       " 'setdefault',\n",
       " 'update',\n",
       " 'values']"
      ]
     },
     "execution_count": 79,
     "metadata": {},
     "output_type": "execute_result"
    }
   ],
   "source": [
    "dir(d)"
   ]
  },
  {
   "cell_type": "code",
   "execution_count": 80,
   "metadata": {
    "collapsed": true
   },
   "outputs": [
    {
     "name": "stdout",
     "output_type": "stream",
     "text": [
      "{}\n"
     ]
    }
   ],
   "source": [
    "#1. clear()\n",
    "d = {'k1':'v1','k2':'v2'}\n",
    "d.clear()\n",
    "print(d)"
   ]
  },
  {
   "cell_type": "code",
   "execution_count": 81,
   "metadata": {
    "collapsed": true
   },
   "outputs": [
    {
     "name": "stdout",
     "output_type": "stream",
     "text": [
      "{'k1': 'v1', 'k2': 'v2'}\n"
     ]
    }
   ],
   "source": [
    "#2. copy\n",
    "d1 = {'k1':'v1','k2':'v2'}\n",
    "d2 = {}\n",
    "d2 = d1.copy()\n",
    "print(d2)"
   ]
  },
  {
   "cell_type": "code",
   "execution_count": 82,
   "metadata": {
    "collapsed": true
   },
   "outputs": [
    {
     "data": {
      "text/plain": [
       "{'k': 'v3', '3': 'v3'}"
      ]
     },
     "execution_count": 82,
     "metadata": {},
     "output_type": "execute_result"
    }
   ],
   "source": [
    "#3. fromkeys\n",
    "#Create a new dictionary with keys from iterable and values set to value.\n",
    "d = {'k1':'v1','k2':'v2'}\n",
    "d.fromkeys(\"k3\",\"v3\")"
   ]
  },
  {
   "cell_type": "code",
   "execution_count": 83,
   "metadata": {
    "collapsed": true
   },
   "outputs": [
    {
     "name": "stdout",
     "output_type": "stream",
     "text": [
      "v1\n",
      "None\n"
     ]
    }
   ],
   "source": [
    "#4. get()\n",
    "d = {'k1':'v1','k2':'v2'}\n",
    "print(d.get('k1'))\n",
    "print(d.get('k3'))"
   ]
  },
  {
   "cell_type": "code",
   "execution_count": 84,
   "metadata": {
    "collapsed": true
   },
   "outputs": [
    {
     "data": {
      "text/plain": [
       "dict_items([('k1', 'v1'), ('k2', 'v2')])"
      ]
     },
     "execution_count": 84,
     "metadata": {},
     "output_type": "execute_result"
    }
   ],
   "source": [
    "#5. items()\n",
    "d = {'k1':'v1','k2':'v2'}\n",
    "d.items()"
   ]
  },
  {
   "cell_type": "code",
   "execution_count": 85,
   "metadata": {
    "collapsed": true
   },
   "outputs": [
    {
     "data": {
      "text/plain": [
       "dict_keys(['k1', 'k2'])"
      ]
     },
     "execution_count": 85,
     "metadata": {},
     "output_type": "execute_result"
    }
   ],
   "source": [
    "#6. keys()\n",
    "d = {'k1':'v1','k2':'v2'}\n",
    "d.keys()"
   ]
  },
  {
   "cell_type": "code",
   "execution_count": 86,
   "metadata": {
    "collapsed": true
   },
   "outputs": [
    {
     "name": "stdout",
     "output_type": "stream",
     "text": [
      "v1\n",
      "{'k2': 'v2', 'k3': 'v3', 'k4': 'v4'}\n",
      "v2\n"
     ]
    }
   ],
   "source": [
    "#7. pop()\n",
    "d = {'k1':'v1','k2':'v2','k3':'v3','k4':'v4'}\n",
    "print(d.pop('k1'))\n",
    "print(d)\n",
    "print(d.pop('k2'))"
   ]
  },
  {
   "cell_type": "code",
   "execution_count": 87,
   "metadata": {
    "collapsed": true
   },
   "outputs": [
    {
     "name": "stdout",
     "output_type": "stream",
     "text": [
      "('k4', 'v4')\n",
      "{'k1': 'v1', 'k2': 'v2', 'k3': 'v3'}\n",
      "('k3', 'v3')\n"
     ]
    }
   ],
   "source": [
    "#7. popitem()\n",
    "d = {'k1':'v1','k2':'v2','k3':'v3','k4':'v4'}\n",
    "print(d.popitem())\n",
    "print(d)\n",
    "print(d.popitem())\n"
   ]
  },
  {
   "cell_type": "code",
   "execution_count": 88,
   "metadata": {
    "collapsed": true
   },
   "outputs": [
    {
     "name": "stdout",
     "output_type": "stream",
     "text": [
      "v5\n",
      "v2\n"
     ]
    },
    {
     "data": {
      "text/plain": [
       "{'k1': 'v1', 'k2': 'v2', 'k3': 'v3', 'k4': 'v4', 'k5': 'v5'}"
      ]
     },
     "execution_count": 88,
     "metadata": {},
     "output_type": "execute_result"
    }
   ],
   "source": [
    "#8. setdefault()\n",
    "# Insert key with a value of default if key is not in the dictionary.\n",
    "d = {'k1':'v1','k2':'v2','k3':'v3','k4':'v4'}\n",
    "print(d.setdefault('k5','v5'))\n",
    "print(d.setdefault('k2','vv2'))\n",
    "d"
   ]
  },
  {
   "cell_type": "code",
   "execution_count": 89,
   "metadata": {
    "collapsed": true
   },
   "outputs": [
    {
     "name": "stdout",
     "output_type": "stream",
     "text": [
      "kk2\n"
     ]
    }
   ],
   "source": [
    "#9. update()\n",
    "#used to update the value of a key, a key can never be changed again\n",
    "#here , we used a for loop to update a value of a key\n",
    "d = {'k1':'v1','k2':'v2','k3':'v3','k4':'v4'}\n",
    "for k in d:\n",
    "    if k=='k2':\n",
    "        d[k] = 'kk2'\n",
    "\n",
    "print(d['k2'])"
   ]
  },
  {
   "cell_type": "code",
   "execution_count": 90,
   "metadata": {
    "collapsed": true
   },
   "outputs": [
    {
     "data": {
      "text/plain": [
       "dict_values(['v1', 'v2', 'v3', 'v4'])"
      ]
     },
     "execution_count": 90,
     "metadata": {},
     "output_type": "execute_result"
    }
   ],
   "source": [
    "#10. values()\n",
    "d = {'k1':'v1','k2':'v2','k3':'v3','k4':'v4'}\n",
    "d.values()"
   ]
  },
  {
   "cell_type": "markdown",
   "metadata": {},
   "source": [
    "## Nested dictionary:"
   ]
  },
  {
   "cell_type": "code",
   "execution_count": 91,
   "metadata": {
    "collapsed": true
   },
   "outputs": [
    {
     "name": "stdout",
     "output_type": "stream",
     "text": [
      "{'nestedk1': {'subnestedk1': 'v1'}}\n",
      "{'subnestedk1': 'v1'}\n",
      "v1\n",
      "dict_keys(['nestedk1'])\n",
      "dict_keys(['subnestedk1'])\n"
     ]
    }
   ],
   "source": [
    "#NESTED DICTIONARY\n",
    "d = {'k1':{'nestedk1':{'subnestedk1':'v1'}}}\n",
    "print(d['k1'])\n",
    "print(d['k1']['nestedk1'])\n",
    "print(d['k1']['nestedk1']['subnestedk1'])\n",
    "print(d['k1'].keys())\n",
    "print(d['k1']['nestedk1'].keys())\n",
    "#print(d['k1']['nestedk1']['subnestedk1'].keys())"
   ]
  },
  {
   "cell_type": "code",
   "execution_count": 92,
   "metadata": {
    "collapsed": true
   },
   "outputs": [
    {
     "name": "stdout",
     "output_type": "stream",
     "text": [
      "2\n",
      "dict_keys(['k1'])\n",
      "dict_keys(['k2'])\n",
      "dict_keys(['k3'])\n"
     ]
    }
   ],
   "source": [
    "d = {'k1':{'k2':{'k3':[1,2,3]}}}\n",
    "print(d['k1']['k2']['k3'][1])\n",
    "print(d.keys())\n",
    "print(d['k1'].keys())\n",
    "print(d['k1']['k2'].keys())"
   ]
  },
  {
   "cell_type": "markdown",
   "metadata": {},
   "source": [
    "## Dictionary comprehension"
   ]
  },
  {
   "cell_type": "code",
   "execution_count": 93,
   "metadata": {
    "collapsed": true
   },
   "outputs": [
    {
     "data": {
      "text/plain": [
       "{0: 0, 1: 1, 2: 4, 3: 9, 4: 16, 5: 25, 6: 36, 7: 49, 8: 64, 9: 81}"
      ]
     },
     "execution_count": 93,
     "metadata": {},
     "output_type": "execute_result"
    }
   ],
   "source": [
    "### ----- Dictionary Comprehension ----- ###\n",
    "#Syntax for dictionray Comprehension\n",
    "''' {key:value for item in list if condition} '''\n",
    "\n",
    "{x:x**2 for x in range(10)}"
   ]
  },
  {
   "cell_type": "markdown",
   "metadata": {},
   "source": [
    "# SET Introduction"
   ]
  },
  {
   "cell_type": "markdown",
   "metadata": {},
   "source": [
    "## Creating an empty set:"
   ]
  },
  {
   "cell_type": "code",
   "execution_count": 94,
   "metadata": {
    "collapsed": true
   },
   "outputs": [
    {
     "name": "stdout",
     "output_type": "stream",
     "text": [
      "set()\n"
     ]
    }
   ],
   "source": [
    "#Creating empty sets\n",
    "#only 1 way \n",
    "x = set()\n",
    "print(x)   #empty set"
   ]
  },
  {
   "cell_type": "markdown",
   "metadata": {},
   "source": [
    "## Difference between a set and a list:"
   ]
  },
  {
   "cell_type": "code",
   "execution_count": 95,
   "metadata": {
    "collapsed": true
   },
   "outputs": [
    {
     "name": "stdout",
     "output_type": "stream",
     "text": [
      "[1, 2, 2, 3, 3, 3, 4, 4, 4, 4]\n",
      "{1, 2, 3, 4}\n"
     ]
    }
   ],
   "source": [
    "#removes duplicates, this is the difference between list and a set\n",
    "l = [1,2,2,3,3,3,4,4,4,4]\n",
    "print(l)\n",
    "s = set(l)\n",
    "print(s)\n"
   ]
  },
  {
   "cell_type": "markdown",
   "metadata": {},
   "source": [
    "## Indexing and slicing:"
   ]
  },
  {
   "cell_type": "code",
   "execution_count": 96,
   "metadata": {
    "collapsed": true
   },
   "outputs": [
    {
     "name": "stdout",
     "output_type": "stream",
     "text": [
      "9\n"
     ]
    }
   ],
   "source": [
    "s = {1,2,3,4,5,6,7,8,9}\n",
    "print(len(s))\n",
    "\n",
    "#indexing:\n",
    "#print(s[4])\n",
    "\n",
    "#slicing:\n",
    "#print(s[2::-1])\n",
    "#print(s[2:9:2])"
   ]
  },
  {
   "cell_type": "markdown",
   "metadata": {},
   "source": [
    "## Built-in-functions:"
   ]
  },
  {
   "cell_type": "code",
   "execution_count": 97,
   "metadata": {
    "collapsed": true
   },
   "outputs": [
    {
     "data": {
      "text/plain": [
       "['__and__',\n",
       " '__class__',\n",
       " '__contains__',\n",
       " '__delattr__',\n",
       " '__dir__',\n",
       " '__doc__',\n",
       " '__eq__',\n",
       " '__format__',\n",
       " '__ge__',\n",
       " '__getattribute__',\n",
       " '__gt__',\n",
       " '__hash__',\n",
       " '__iand__',\n",
       " '__init__',\n",
       " '__init_subclass__',\n",
       " '__ior__',\n",
       " '__isub__',\n",
       " '__iter__',\n",
       " '__ixor__',\n",
       " '__le__',\n",
       " '__len__',\n",
       " '__lt__',\n",
       " '__ne__',\n",
       " '__new__',\n",
       " '__or__',\n",
       " '__rand__',\n",
       " '__reduce__',\n",
       " '__reduce_ex__',\n",
       " '__repr__',\n",
       " '__ror__',\n",
       " '__rsub__',\n",
       " '__rxor__',\n",
       " '__setattr__',\n",
       " '__sizeof__',\n",
       " '__str__',\n",
       " '__sub__',\n",
       " '__subclasshook__',\n",
       " '__xor__',\n",
       " 'add',\n",
       " 'clear',\n",
       " 'copy',\n",
       " 'difference',\n",
       " 'difference_update',\n",
       " 'discard',\n",
       " 'intersection',\n",
       " 'intersection_update',\n",
       " 'isdisjoint',\n",
       " 'issubset',\n",
       " 'issuperset',\n",
       " 'pop',\n",
       " 'remove',\n",
       " 'symmetric_difference',\n",
       " 'symmetric_difference_update',\n",
       " 'union',\n",
       " 'update']"
      ]
     },
     "execution_count": 97,
     "metadata": {},
     "output_type": "execute_result"
    }
   ],
   "source": [
    "#built-in-functions\n",
    "s = {1,2,3,4}\n",
    "dir(s)\n"
   ]
  },
  {
   "cell_type": "code",
   "execution_count": 98,
   "metadata": {
    "collapsed": true
   },
   "outputs": [
    {
     "name": "stdout",
     "output_type": "stream",
     "text": [
      "{1, 2, 3, 4, 5}\n"
     ]
    }
   ],
   "source": [
    "#1. add()\n",
    "''' Add an element to a set.\n",
    "\n",
    "This has no effect if the element is already present. '''\n",
    "\n",
    "\n",
    "s.add(1)\n",
    "s.add(5)\n",
    "print(s)"
   ]
  },
  {
   "cell_type": "code",
   "execution_count": 99,
   "metadata": {
    "collapsed": true
   },
   "outputs": [
    {
     "name": "stdout",
     "output_type": "stream",
     "text": [
      "set()\n"
     ]
    }
   ],
   "source": [
    "#2. clear()\n",
    "''' Remove all elements from this set. '''\n",
    "s.clear()\n",
    "print(s)"
   ]
  },
  {
   "cell_type": "code",
   "execution_count": 100,
   "metadata": {
    "collapsed": true
   },
   "outputs": [
    {
     "name": "stdout",
     "output_type": "stream",
     "text": [
      "{1, 2, 3}\n",
      "{1, 2, 3}\n"
     ]
    }
   ],
   "source": [
    "#3. copy()\n",
    "''' Return a shallow copy of a set.  '''\n",
    "s = {1,2,3}\n",
    "print(s)\n",
    "s1 = s.copy()\n",
    "print(s1)"
   ]
  },
  {
   "cell_type": "code",
   "execution_count": 101,
   "metadata": {
    "collapsed": true
   },
   "outputs": [
    {
     "name": "stdout",
     "output_type": "stream",
     "text": [
      "s1 is:  {1, 2, 3, 4}\n",
      "s2 is:  {2, 3, 4}\n",
      "s3 is:  {1}\n",
      "----------\n",
      "s1 is:  {1, 2, 3, 4}\n",
      "s2 is:  {2, 3, 4}\n",
      "s3 is:  set()\n",
      "----------\n",
      "s1 is:  {1, 2, 3, 4}\n",
      "s2 is:  {3, 5, 6, 7}\n",
      "s3 is:  {1, 2, 4}\n",
      "----------\n",
      "s1 is:  {1, 2, 3, 4}\n",
      "s2 is:  {3, 5, 6, 7}\n",
      "s3 is:  {5, 6, 7}\n"
     ]
    }
   ],
   "source": [
    "#4. difference()\n",
    "''' Return the difference of two or more sets as a new set.\n",
    "\n",
    "(i.e. all elements that are in this set but not the others.) '''\n",
    "\n",
    "\n",
    "##type1\n",
    "s1 = {1,2,3,4}\n",
    "s2 = {2,3,4}\n",
    "s3 = s1.difference(s2)\n",
    "print(\"s1 is: \",s1)\n",
    "print(\"s2 is: \",s2)\n",
    "print(\"s3 is: \",s3)\n",
    "print(\"----------\")\n",
    "\n",
    "##type2\n",
    "s1 = {1,2,3,4}\n",
    "s2 = {2,3,4}\n",
    "s3 = s2.difference(s1)\n",
    "print(\"s1 is: \",s1)\n",
    "print(\"s2 is: \",s2)\n",
    "print(\"s3 is: \",s3)\n",
    "\n",
    "print(\"----------\")\n",
    "##type3\n",
    "s1 = {1,2,3,4}\n",
    "s2 = {3,5,6,7}\n",
    "s3 = s1.difference(s2)\n",
    "print(\"s1 is: \",s1)\n",
    "print(\"s2 is: \",s2)\n",
    "print(\"s3 is: \",s3)\n",
    "print(\"----------\")\n",
    "\n",
    "##type4\n",
    "s1 = {1,2,3,4}\n",
    "s2 = {3,5,6,7}\n",
    "s3 = s2.difference(s1)\n",
    "print(\"s1 is: \",s1)\n",
    "print(\"s2 is: \",s2)\n",
    "print(\"s3 is: \",s3)"
   ]
  },
  {
   "cell_type": "code",
   "execution_count": 102,
   "metadata": {
    "collapsed": true
   },
   "outputs": [
    {
     "name": "stdout",
     "output_type": "stream",
     "text": [
      "s1 is:  {1}\n",
      "s2 is:  {2, 3, 4}\n",
      "s3 is:  None\n",
      "s1 is:  {1, 2, 3, 4}\n",
      "s2 is:  set()\n",
      "s3 is:  None\n"
     ]
    }
   ],
   "source": [
    "#5. difference_update()\n",
    "''' Remove all elements of another set from this set  '''\n",
    "\n",
    "##type1\n",
    "s1 = {1,2,3,4}\n",
    "s2 = {2,3,4}\n",
    "s3 = s1.difference_update(s2)\n",
    "print(\"s1 is: \",s1)\n",
    "print(\"s2 is: \",s2)\n",
    "print(\"s3 is: \",s3)\n",
    "\n",
    "##type2\n",
    "s1 = {1,2,3,4}\n",
    "s2 = {2,3,4}\n",
    "s3 = s2.difference_update(s1)\n",
    "print(\"s1 is: \",s1)\n",
    "print(\"s2 is: \",s2)\n",
    "print(\"s3 is: \",s3)"
   ]
  },
  {
   "cell_type": "code",
   "execution_count": 103,
   "metadata": {
    "collapsed": true
   },
   "outputs": [
    {
     "name": "stdout",
     "output_type": "stream",
     "text": [
      "{1, 2, 3, 4, 5}\n",
      "{1, 2, 3, 5}\n"
     ]
    }
   ],
   "source": [
    "#6. discard()\n",
    "''' Remove an element from a set if it is a member. If the element is not a member, do nothing. '''\n",
    "\n",
    "\n",
    "s = {1,2,3,4,5}\n",
    "s.discard(6)\n",
    "print(s)\n",
    "s.discard(4)\n",
    "print(s)"
   ]
  },
  {
   "cell_type": "code",
   "execution_count": 104,
   "metadata": {
    "collapsed": true
   },
   "outputs": [
    {
     "name": "stdout",
     "output_type": "stream",
     "text": [
      "s1 is:  {1, 2, 3, 4, 5}\n",
      "s2 is:  {2, 3, 5, 6}\n",
      "s3 is:  {2, 3, 5}\n",
      "s1 is:  {1, 2, 3}\n",
      "s2 is:  {4, 5, 6, 7, 8}\n",
      "s3 is:  set()\n"
     ]
    }
   ],
   "source": [
    "#7. intersection()\n",
    "''' Return the intersection of two sets as a new set. (i.e. all elements that are in both sets.) '''\n",
    "\n",
    "\n",
    "##type1\n",
    "s1 = {1,2,3,4,5}\n",
    "s2 = {3,5,2,6,5}\n",
    "s3 = s1.intersection(s2)\n",
    "print(\"s1 is: \",s1)\n",
    "print(\"s2 is: \",s2)\n",
    "print(\"s3 is: \",s3)\n",
    "\n",
    "##type2\n",
    "s1 = {1,2,3}\n",
    "s2 = {4,5,6,7,8}\n",
    "s3 = s1.intersection(s2)\n",
    "print(\"s1 is: \",s1)\n",
    "print(\"s2 is: \",s2)\n",
    "print(\"s3 is: \",s3)"
   ]
  },
  {
   "cell_type": "code",
   "execution_count": 105,
   "metadata": {
    "collapsed": true
   },
   "outputs": [
    {
     "name": "stdout",
     "output_type": "stream",
     "text": [
      "s1 is:  {2, 3, 5}\n",
      "s2 is:  {2, 3, 5, 6}\n",
      "s3 is:  None\n",
      "----------------\n",
      "s1 is:  {1, 2, 3, 4, 5}\n",
      "s2 is:  {2, 3, 5}\n",
      "s3 is:  None\n",
      "---------------------------------------------------\n",
      "s1 is:  set()\n",
      "s2 is:  {4, 5, 6, 7, 8}\n",
      "s3 is:  None\n",
      "----------------\n",
      "s1 is:  {1, 2, 3}\n",
      "s2 is:  set()\n",
      "s3 is:  None\n"
     ]
    }
   ],
   "source": [
    "#8. intersection_update()\n",
    "''' Update a set with the intersection of itself and another. '''\n",
    "\n",
    "\n",
    "##type1\n",
    "s1 = {1,2,3,4,5}\n",
    "s2 = {3,5,2,6,5}\n",
    "s3 = s1.intersection_update(s2)\n",
    "print(\"s1 is: \",s1)\n",
    "print(\"s2 is: \",s2)\n",
    "print(\"s3 is: \",s3)\n",
    "\n",
    "print('----------------')\n",
    "##type2\n",
    "s1 = {1,2,3,4,5}\n",
    "s2 = {3,5,2,6,5}\n",
    "s3 = s2.intersection_update(s1)\n",
    "print(\"s1 is: \",s1)\n",
    "print(\"s2 is: \",s2)\n",
    "print(\"s3 is: \",s3)\n",
    "\n",
    "print('---------------------------------------------------')\n",
    "##type3\n",
    "s1 = {1,2,3}\n",
    "s2 = {4,5,6,7,8}\n",
    "s3 = s1.intersection_update(s2)\n",
    "print(\"s1 is: \",s1)\n",
    "print(\"s2 is: \",s2)\n",
    "print(\"s3 is: \",s3)\n",
    "\n",
    "print('----------------')\n",
    "\n",
    "##type4\n",
    "s1 = {1,2,3}\n",
    "s2 = {4,5,6,7,8}\n",
    "s3 = s2.intersection_update(s1)\n",
    "print(\"s1 is: \",s1)\n",
    "print(\"s2 is: \",s2)\n",
    "print(\"s3 is: \",s3)"
   ]
  },
  {
   "cell_type": "code",
   "execution_count": 106,
   "metadata": {
    "collapsed": true
   },
   "outputs": [
    {
     "name": "stdout",
     "output_type": "stream",
     "text": [
      "False\n",
      "True\n"
     ]
    }
   ],
   "source": [
    "#9. isdisjoint()\n",
    "''' Return True if two sets have a null intersection. '''\n",
    "\n",
    "\n",
    "s1 = {1,2,3,4,5}\n",
    "s2 = {2,5,7,4,8}\n",
    "s3 = {12,34,12,45}\n",
    "print(s1.isdisjoint(s2))    #has intersection\n",
    "print(s1.isdisjoint(s3))    #doesn't have intersection"
   ]
  },
  {
   "cell_type": "code",
   "execution_count": 107,
   "metadata": {
    "collapsed": true
   },
   "outputs": [
    {
     "name": "stdout",
     "output_type": "stream",
     "text": [
      "True\n",
      "False\n"
     ]
    }
   ],
   "source": [
    "#10. issubset()\n",
    "''' Report whether another set contains this set.  '''\n",
    "\n",
    "s1 = {1,2,3,4,5,6,7,8,9}\n",
    "s2 = {2,5,6,4}\n",
    "s3 = {2,76,34,21,32,5,6,7,8}\n",
    "print(s2.issubset(s1))\n",
    "print(s3.issubset(s1))"
   ]
  },
  {
   "cell_type": "code",
   "execution_count": 108,
   "metadata": {
    "collapsed": true
   },
   "outputs": [
    {
     "name": "stdout",
     "output_type": "stream",
     "text": [
      "True\n",
      "False\n"
     ]
    }
   ],
   "source": [
    "#11. issuperset()\n",
    "''' Report whether this set contains another set.  '''\n",
    "\n",
    "s1 = {1,2,3,4,5,6,7,8,9}\n",
    "s2 = {2,5,6,4}\n",
    "s3 = {2,76,34,21,32,5,6,7,8}\n",
    "print(s1.issuperset(s2))\n",
    "print(s1.issuperset(s3))"
   ]
  },
  {
   "cell_type": "code",
   "execution_count": 109,
   "metadata": {
    "collapsed": true
   },
   "outputs": [
    {
     "name": "stdout",
     "output_type": "stream",
     "text": [
      "{2, 3, 4, 5, 6, 7, 8, 9}\n",
      "{3, 4, 5, 6, 7, 8, 9}\n",
      "1\n",
      "2\n"
     ]
    }
   ],
   "source": [
    "#12. pop()\n",
    "''' remove and return an arbitrary set element. Raises KeyError if the set is empty. Can take no arguements'''\n",
    "\n",
    "s = {1,2,3,4,5,6,7,8,9}\n",
    "x = s.pop()\n",
    "print(s)\n",
    "y = s.pop()\n",
    "print(s)\n",
    "print(x)\n",
    "print(y)\n"
   ]
  },
  {
   "cell_type": "code",
   "execution_count": 110,
   "metadata": {
    "collapsed": true
   },
   "outputs": [
    {
     "name": "stdout",
     "output_type": "stream",
     "text": [
      "{1, 3, 4, 5, 6, 7, 8, 9}\n"
     ]
    }
   ],
   "source": [
    "#13. remove()\n",
    "''' Remove an element from a set; it must be a member. If the element is not a member, raise a KeyError. '''\n",
    "\n",
    "s = {1,2,3,4,5,6,7,8,9}\n",
    "s.remove(2)\n",
    "print(s)"
   ]
  },
  {
   "cell_type": "code",
   "execution_count": 111,
   "metadata": {
    "collapsed": true
   },
   "outputs": [
    {
     "name": "stdout",
     "output_type": "stream",
     "text": [
      "s1 is:  {1, 2, 3, 4, 5}\n",
      "s2 is:  {2, 3, 5, 6}\n",
      "s3 is:  {1, 4, 6}\n",
      "----------------\n",
      "s1 is:  {1, 2, 3, 4, 5}\n",
      "s2 is:  {2, 3, 5, 6}\n",
      "s3 is:  {1, 4, 6}\n",
      "---------------------------------------------------\n",
      "s1 is:  {1, 2, 3}\n",
      "s2 is:  {4, 5, 6, 7, 8}\n",
      "s3 is:  {1, 2, 3, 4, 5, 6, 7, 8}\n",
      "----------------\n",
      "s1 is:  {1, 2, 3}\n",
      "s2 is:  {4, 5, 6, 7, 8}\n",
      "s3 is:  {1, 2, 3, 4, 5, 6, 7, 8}\n"
     ]
    }
   ],
   "source": [
    "#14. symmetric_difference()\n",
    "''' Return the symmetric difference of two sets as a new set. (i.e. all elements that are in exactly one of the sets.) '''\n",
    "\n",
    "##type1\n",
    "s1 = {1,2,3,4,5}\n",
    "s2 = {3,5,2,6,5}\n",
    "s3 = s1.symmetric_difference(s2)\n",
    "print(\"s1 is: \",s1)\n",
    "print(\"s2 is: \",s2)\n",
    "print(\"s3 is: \",s3)\n",
    "\n",
    "print('----------------')\n",
    "##type2\n",
    "s1 = {1,2,3,4,5}\n",
    "s2 = {3,5,2,6,5}\n",
    "s3 = s2.symmetric_difference(s1)\n",
    "print(\"s1 is: \",s1)\n",
    "print(\"s2 is: \",s2)\n",
    "print(\"s3 is: \",s3)\n",
    "\n",
    "print('---------------------------------------------------')\n",
    "##type3\n",
    "s1 = {1,2,3}\n",
    "s2 = {4,5,6,7,8}\n",
    "s3 = s1.symmetric_difference(s2)\n",
    "print(\"s1 is: \",s1)\n",
    "print(\"s2 is: \",s2)\n",
    "print(\"s3 is: \",s3)\n",
    "\n",
    "print('----------------')\n",
    "\n",
    "##type4\n",
    "s1 = {1,2,3}\n",
    "s2 = {4,5,6,7,8}\n",
    "s3 = s2.symmetric_difference(s1)\n",
    "print(\"s1 is: \",s1)\n",
    "print(\"s2 is: \",s2)\n",
    "print(\"s3 is: \",s3)"
   ]
  },
  {
   "cell_type": "code",
   "execution_count": 112,
   "metadata": {
    "collapsed": true
   },
   "outputs": [
    {
     "name": "stdout",
     "output_type": "stream",
     "text": [
      "s1 is:  {1, 4, 6}\n",
      "s2 is:  {2, 3, 5, 6}\n",
      "s3 is:  None\n",
      "----------------\n",
      "s1 is:  {1, 2, 3, 4, 5}\n",
      "s2 is:  {1, 4, 6}\n",
      "s3 is:  None\n",
      "---------------------------------------------------\n",
      "s1 is:  {1, 2, 3, 4, 5, 6, 7, 8}\n",
      "s2 is:  {4, 5, 6, 7, 8}\n",
      "s3 is:  None\n",
      "----------------\n",
      "s1 is:  {1, 2, 3}\n",
      "s2 is:  {1, 2, 3, 4, 5, 6, 7, 8}\n",
      "s3 is:  None\n"
     ]
    }
   ],
   "source": [
    "#15. symmetric_difference_update()\n",
    "''' Update a set with the symmetric difference of itself and another. '''\n",
    "\n",
    "\n",
    "##type1\n",
    "s1 = {1,2,3,4,5}\n",
    "s2 = {3,5,2,6,5}\n",
    "s3 = s1.symmetric_difference_update(s2)\n",
    "print(\"s1 is: \",s1)\n",
    "print(\"s2 is: \",s2)\n",
    "print(\"s3 is: \",s3)\n",
    "\n",
    "print('----------------')\n",
    "##type2\n",
    "s1 = {1,2,3,4,5}\n",
    "s2 = {3,5,2,6,5}\n",
    "s3 = s2.symmetric_difference_update(s1)\n",
    "print(\"s1 is: \",s1)\n",
    "print(\"s2 is: \",s2)\n",
    "print(\"s3 is: \",s3)\n",
    "\n",
    "print('---------------------------------------------------')\n",
    "##type3\n",
    "s1 = {1,2,3}\n",
    "s2 = {4,5,6,7,8}\n",
    "s3 = s1.symmetric_difference_update(s2)\n",
    "print(\"s1 is: \",s1)\n",
    "print(\"s2 is: \",s2)\n",
    "print(\"s3 is: \",s3)\n",
    "\n",
    "print('----------------')\n",
    "\n",
    "##type4\n",
    "s1 = {1,2,3}\n",
    "s2 = {4,5,6,7,8}\n",
    "s3 = s2.symmetric_difference_update(s1)\n",
    "print(\"s1 is: \",s1)\n",
    "print(\"s2 is: \",s2)\n",
    "print(\"s3 is: \",s3)"
   ]
  },
  {
   "cell_type": "code",
   "execution_count": 113,
   "metadata": {
    "collapsed": true
   },
   "outputs": [
    {
     "name": "stdout",
     "output_type": "stream",
     "text": [
      "s1 is:  {1, 2, 3, 4, 5}\n",
      "s2 is:  {2, 3, 5, 6}\n",
      "s3 is:  {1, 2, 3, 4, 5, 6}\n",
      "------------------------------\n",
      "s1 is:  {1, 2, 3}\n",
      "s2 is:  {4, 5, 6, 7, 8}\n",
      "s3 is:  {1, 2, 3, 4, 5, 6, 7, 8}\n"
     ]
    }
   ],
   "source": [
    "#16. union()\n",
    "''' Return the union of sets as a new set. (i.e. all elements that are in either set.) '''\n",
    "\n",
    "##type1\n",
    "s1 = {1,2,3,4,5}\n",
    "s2 = {3,5,2,6,5}\n",
    "s3 = s1.union(s2)\n",
    "print(\"s1 is: \",s1)\n",
    "print(\"s2 is: \",s2)\n",
    "print(\"s3 is: \",s3)\n",
    "\n",
    "print('------------------------------')\n",
    "##type2\n",
    "s1 = {1,2,3}\n",
    "s2 = {4,5,6,7,8}\n",
    "s3 = s1.union(s2)\n",
    "print(\"s1 is: \",s1)\n",
    "print(\"s2 is: \",s2)\n",
    "print(\"s3 is: \",s3)"
   ]
  },
  {
   "cell_type": "code",
   "execution_count": 114,
   "metadata": {
    "collapsed": true
   },
   "outputs": [
    {
     "name": "stdout",
     "output_type": "stream",
     "text": [
      "s1 is:  {1, 2, 3, 4, 5, 6}\n",
      "s2 is:  {2, 3, 5, 6}\n",
      "s3 is:  None\n",
      "------------------------------\n",
      "s1 is:  {1, 2, 3, 4, 5, 6, 7, 8}\n",
      "s2 is:  {4, 5, 6, 7, 8}\n",
      "s3 is:  None\n"
     ]
    }
   ],
   "source": [
    "#17. update()\n",
    "''' Update a set with the union of itself and others.  '''\n",
    "\n",
    "##type1\n",
    "s1 = {1,2,3,4,5}\n",
    "s2 = {3,5,2,6,5}\n",
    "s3 = s1.update(s2)\n",
    "print(\"s1 is: \",s1)\n",
    "print(\"s2 is: \",s2)\n",
    "print(\"s3 is: \",s3)\n",
    "\n",
    "print('------------------------------')\n",
    "##type2\n",
    "s1 = {1,2,3}\n",
    "s2 = {4,5,6,7,8}\n",
    "s3 = s1.update(s2)\n",
    "print(\"s1 is: \",s1)\n",
    "print(\"s2 is: \",s2)\n",
    "print(\"s3 is: \",s3)"
   ]
  },
  {
   "cell_type": "code",
   "execution_count": null,
   "metadata": {
    "collapsed": true
   },
   "outputs": [],
   "source": []
  }
 ],
 "metadata": {
  "kernelspec": {
   "display_name": "Python 3",
   "language": "python",
   "name": "python3"
  },
  "language_info": {
   "codemirror_mode": {
    "name": "ipython",
    "version": 3
   },
   "file_extension": ".py",
   "mimetype": "text/x-python",
   "name": "python",
   "nbconvert_exporter": "python",
   "pygments_lexer": "ipython3",
   "version": "3.7.6"
  }
 },
 "nbformat": 4,
 "nbformat_minor": 2
}
